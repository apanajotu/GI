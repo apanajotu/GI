{
 "cells": [
  {
   "cell_type": "code",
   "execution_count": 4,
   "metadata": {},
   "outputs": [
    {
     "name": "stdout",
     "output_type": "stream",
     "text": [
      "merged-tumor.bam  merged-tumor.bam.bai\n"
     ]
    }
   ],
   "source": [
    "!ls /sbgenomics/project-files"
   ]
  },
  {
   "cell_type": "code",
   "execution_count": 41,
   "metadata": {},
   "outputs": [
    {
     "name": "stdout",
     "output_type": "stream",
     "text": [
      "First read of BAM file:\n",
      " C0HVYACXX120402:7:1207:5722:57044\t1187\t20\t9483248\t27\t76M\t20\t9483381\t76\tTTTTCAAACAGTATCTATGCCTGCCAAATGTGAACATATAAAAAAAAACCAGAATGTGCCATTCTGATTTAAACTG\tarray('B', [28, 28, 27, 29, 31, 30, 31, 31, 29, 31, 35, 30, 29, 31, 34, 30, 29, 23, 41, 32, 20, 30, 29, 34, 34, 29, 30, 31, 30, 30, 30, 33, 33, 26, 39, 12, 25, 19, 32, 30, 35, 28, 35, 33, 23, 33, 35, 36, 30, 38, 33, 41, 34, 35, 31, 33, 23, 30, 30, 36, 27, 32, 29, 34, 35, 41, 33, 31, 33, 29, 32, 32, 31, 31, 31, 34])\t[('XA', 'GL000217.1,-110754,76M,1;'), ('BD', 'NNNNNNNNNNNNNNNNNNNNNNNNNNNNNNNNNNNNNNNNNNNNNNNNNNNNNNNNNNNNNNNNNNNNNNNNNNNN'), ('MD', '76'), ('RG', '1'), ('BI', 'NNNNNNNNNNNNNNNNNNNNNNNNNNNNNNNNNNNNNNNNNNNNNNNNNNNNNNNNNNNNNNNNNNNNNNNNNNNN'), ('NM', 0), ('MQ', 27), ('AS', 76), ('XS', 71)]\n"
     ]
    }
   ],
   "source": [
    "import pysam\n",
    "bamfile = pysam.AlignmentFile(\"/sbgenomics/project-files/merged-tumor.bam\", \"rb\")\n",
    "\n",
    "for read in bamfile:\n",
    "    firstRead = read;\n",
    "    break;\n",
    " \n",
    "print(\"First read of BAM file:\\n\", firstRead)\n",
    "\n",
    "bamfile.close()    "
   ]
  },
  {
   "cell_type": "markdown",
   "metadata": {},
   "source": [
    "Flag field is (value 1187) is decoded using https://broadinstitute.github.io/picard/explain-flags.html:\n",
    "\n",
    "    read paired (0x1)\n",
    "    read mapped in proper pair (0x2)\n",
    "    mate reverse strand (0x20)\n",
    "    second in pair (0x80)\n",
    "    read is PCR or optical duplicate (0x400)"
   ]
  },
  {
   "cell_type": "code",
   "execution_count": 42,
   "metadata": {},
   "outputs": [
    {
     "name": "stdout",
     "output_type": "stream",
     "text": [
      "Number of unmapped reads in BAM file:  0\n"
     ]
    }
   ],
   "source": [
    "import pysam\n",
    "bamfile = pysam.AlignmentFile(\"/sbgenomics/project-files/merged-tumor.bam\", \"rb\")\n",
    "\n",
    "print(\"Number of unmapped reads in BAM file: \", bamfile.unmapped)\n",
    "\n",
    "bamfile.close()"
   ]
  },
  {
   "cell_type": "code",
   "execution_count": 28,
   "metadata": {},
   "outputs": [
    {
     "name": "stdout",
     "output_type": "stream",
     "text": [
      "Number of reads in BAM file:  2921629\n"
     ]
    }
   ],
   "source": [
    "import pysam\n",
    "bamfile = pysam.AlignmentFile(\"/sbgenomics/project-files/merged-tumor.bam\", \"rb\")\n",
    "\n",
    "num_of_reads = 0\n",
    "for read in bamfile:\n",
    "    num_of_reads+=1;\n",
    "print(\"Number of reads in BAM file: \", num_of_reads)\n",
    "\n",
    "bamfile.close()"
   ]
  },
  {
   "cell_type": "code",
   "execution_count": 44,
   "metadata": {},
   "outputs": [
    {
     "name": "stdout",
     "output_type": "stream",
     "text": [
      "Number of reads with mapping quality 0:  126628\n"
     ]
    }
   ],
   "source": [
    "import pysam\n",
    "bamfile = pysam.AlignmentFile(\"/sbgenomics/project-files/merged-tumor.bam\", \"rb\")\n",
    "\n",
    "map_qual_zero_num = 0\n",
    "for read in bamfile:\n",
    "    if (read.mapping_quality == 0):\n",
    "        map_qual_zero_num+=1;\n",
    "print(\"Number of reads with mapping quality 0: \", map_qual_zero_num)\n",
    "\n",
    "bamfile.close()"
   ]
  },
  {
   "cell_type": "code",
   "execution_count": 39,
   "metadata": {},
   "outputs": [
    {
     "name": "stdout",
     "output_type": "stream",
     "text": [
      "Average mapping quality:  55.91379158681681\n"
     ]
    }
   ],
   "source": [
    "import pysam\n",
    "bamfile = pysam.AlignmentFile(\"/sbgenomics/project-files/merged-tumor.bam\", \"rb\")\n",
    "\n",
    "num = 0\n",
    "sum_of_qual = 0\n",
    "avg = 0\n",
    "\n",
    "for read in bamfile:\n",
    "    num+=1;\n",
    "    sum_of_qual += read.mapping_quality;\n",
    "\n",
    "avg = sum_of_qual/num    \n",
    "print(\"Average mapping quality: \", avg)\n",
    "\n",
    "bamfile.close()"
   ]
  },
  {
   "cell_type": "code",
   "execution_count": 38,
   "metadata": {},
   "outputs": [
    {
     "name": "stdout",
     "output_type": "stream",
     "text": [
      "Average mapping quality of reads with non-zero mapping quality:  58.446975510921106\n"
     ]
    }
   ],
   "source": [
    "import pysam\n",
    "bamfile = pysam.AlignmentFile(\"/sbgenomics/project-files/merged-tumor.bam\", \"rb\")\n",
    "\n",
    "num = 0\n",
    "sum_of_qual = 0\n",
    "avg = 0\n",
    "\n",
    "for read in bamfile:\n",
    "    if(read.mapping_quality != 0):\n",
    "        num+=1;\n",
    "        sum_of_qual += read.mapping_quality;\n",
    "\n",
    "avg = sum_of_qual/num    \n",
    "print(\"Average mapping quality of reads with non-zero mapping quality: \", avg)\n",
    "\n",
    "bamfile.close()"
   ]
  }
 ],
 "metadata": {
  "kernelspec": {
   "display_name": "Python 3",
   "language": "python",
   "name": "python3"
  },
  "language_info": {
   "codemirror_mode": {
    "name": "ipython",
    "version": 3
   },
   "file_extension": ".py",
   "mimetype": "text/x-python",
   "name": "python",
   "nbconvert_exporter": "python",
   "pygments_lexer": "ipython3",
   "version": "3.6.3"
  }
 },
 "nbformat": 4,
 "nbformat_minor": 2
}
