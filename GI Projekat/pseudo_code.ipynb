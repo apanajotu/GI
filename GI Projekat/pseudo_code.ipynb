{
 "cells": [
  {
   "cell_type": "code",
   "execution_count": null,
   "metadata": {},
   "outputs": [],
   "source": [
    "\n",
    "open pileup_file:\n",
    "    \n",
    "    for p in binomial_probabilities [0.5..0.98]:     \n",
    "        output_variant_call_file = 'binomial_'+p+'_variant_call_file'\n",
    "        open output_variant_call_file:      \n",
    "            \n",
    "            #writes header based on VCF4.2 file specification\n",
    "            write_vcf_header(output_variant_call_file)            \n",
    "            for line in pileup_file:\n",
    "                \n",
    "                #creates an object that contains information about chromozome name, position, REF symbol\n",
    "                #  and string of symbols from the read and qualities\n",
    "                Pileup_line pileup_line = parse_line(line) \n",
    "                \n",
    "                #returns most probable combination of variants based on binomial distibution and probability used in this loop\n",
    "                Variant var1, Variant var2 = calculate_variants_using_binomial(pileup_line, p)\n",
    "                \n",
    "                #Based on the types of variants, creates output string\n",
    "                String vcf_line = create_vcf_line(var1, var2)\n",
    "                output_variant_call_file.write(vcf_line)\n",
    "       \n",
    "    \n",
    "    "
   ]
  }
 ],
 "metadata": {
  "kernelspec": {
   "display_name": "Python 3",
   "language": "python",
   "name": "python3"
  },
  "language_info": {
   "codemirror_mode": {
    "name": "ipython",
    "version": 3
   },
   "file_extension": ".py",
   "mimetype": "text/x-python",
   "name": "python",
   "nbconvert_exporter": "python",
   "pygments_lexer": "ipython3",
   "version": "3.6.3"
  }
 },
 "nbformat": 4,
 "nbformat_minor": 2
}
