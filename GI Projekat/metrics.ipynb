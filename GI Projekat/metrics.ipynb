{
 "cells": [
  {
   "cell_type": "code",
   "execution_count": 1,
   "metadata": {},
   "outputs": [],
   "source": [
    "import numpy\n",
    "import datetime\n",
    "import re\n",
    "import collections\n",
    "from collections import OrderedDict\n",
    "import math\n",
    "import allel\n",
    "import pandas"
   ]
  },
  {
   "cell_type": "code",
   "execution_count": 2,
   "metadata": {},
   "outputs": [],
   "source": [
    "temp_new_vcf_str = 'temp_metrics_files/temp_new.vcf'\n",
    "temp_ref_vcf_str = 'temp_metrics_files/temp_ref.vcf'\n"
   ]
  },
  {
   "cell_type": "code",
   "execution_count": 3,
   "metadata": {},
   "outputs": [],
   "source": [
    "def vcf_to_df(vcf_file):\n",
    "    callset = allel.read_vcf(vcf_file, fields=['variants/CHROM', 'variants/POS', 'variants/REF', 'variants/ALT',  'calldata/GT'])\n",
    "    \n",
    "    df_chrom = pandas.DataFrame.from_dict(callset['variants/CHROM'])#, callset['variants/POS'], callset['variants/REF'])\n",
    "    df_chrom = df_chrom.rename(columns={0:'CHROM' }) #, 1:'POS', 2:'REF'\n",
    "    df_pos = pandas.DataFrame.from_dict(callset['variants/POS'], dtype='int64')\n",
    "    df_pos = df_pos.rename(columns={0:'POS' })\n",
    "    df_ref = pandas.DataFrame.from_dict(callset['variants/REF'])\n",
    "    df_ref = df_ref.rename(columns={0:'REF'})\n",
    "    df_alts = pandas.DataFrame.from_dict(callset['variants/ALT'])\n",
    "    df_alts = df_alts.rename(columns={0:'ALT_0', 1:'ALT_1'})\n",
    "    df_gt = pandas.DataFrame.from_dict(callset['calldata/GT'][:,0])\n",
    "    df_gt = df_gt.rename(columns={0:'GT_0', 1:'GT_1'})\n",
    "    frames = [ df_chrom, df_pos, df_ref, df_alts, df_gt]\n",
    "    vcf = pandas.concat(frames, axis=1)\n",
    "    return vcf"
   ]
  },
  {
   "cell_type": "code",
   "execution_count": 4,
   "metadata": {},
   "outputs": [],
   "source": [
    "def declare_variants_only_with_changes(gt0, gt1, ref, alt0, alt1, pos):\n",
    "    variants = []\n",
    "    for i in range(0,len(gt0)):\n",
    "        \n",
    "        if(gt0[i] == 0 and gt1[i] == 1):\n",
    "            s = str(pos[i]) + '-' + str(ref[i]) + str(alt0[i])\n",
    "            variants.append(s)\n",
    "        if(gt0[i] == 1 and gt1[i] == 1):\n",
    "            s = str(pos[i]) + '-' + alt0[i]\n",
    "            variants.append(s)\n",
    "        if(gt0[i] == 1 and gt1[i] == 2):\n",
    "            s = str(pos[i]) + '-' + str(alt0[i]) + str(alt1[i])\n",
    "            variants.append(s)\n",
    "            \n",
    "    return variants\n",
    "\n",
    "def declare_variants_without_changes(gt0, gt1, ref, alt0, alt1, pos):\n",
    "    variants = []\n",
    "    for i in range(0,len(gt0)):\n",
    "        if(gt0[i] == 0 and gt1[i] == 0):\n",
    "            s = str(pos[i]) + '-' + ref[i]\n",
    "            variants.append(s)\n",
    "            \n",
    "    return variants\n",
    "        \n"
   ]
  },
  {
   "cell_type": "code",
   "execution_count": 5,
   "metadata": {},
   "outputs": [],
   "source": [
    "def calc_metrics(new_dataset, ref_dataset):\n",
    "    \n",
    "    TP = 0\n",
    "    FP = 0\n",
    "    FN = 0\n",
    "    precision = 0\n",
    "    recall = 0\n",
    "    f1_score = 0\n",
    "    \n",
    "    \n",
    "\n",
    "    new_position_df = new_dataset['POS'].isin(ref_dataset['POS'])\n",
    "    ref_position_df = ref_dataset['POS'].isin(new_dataset['POS'])\n",
    "\n",
    "    new_position_cnt = new_dataset['POS'].isin(ref_dataset['POS']).value_counts()\n",
    "    ref_position_cnt = ref_dataset['POS'].isin(new_dataset['POS']).value_counts()\n",
    "\n",
    "\n",
    "\n",
    "    if False in ref_position_cnt.index: FN += ref_position_cnt[False]\n",
    "    if False in new_position_cnt.index: FP += new_position_cnt[False]\n",
    "\n",
    "\n",
    "    #indexes of samples from ref file\n",
    "    ref_match_new_pos = ref_position_df.index[ref_position_df == True].tolist()\n",
    "\n",
    "     #indexes of samples from new file\n",
    "    new_match_rf_pos = new_position_df.index[new_position_df == True].tolist()\n",
    "\n",
    "\n",
    "    new_gt0 = new_dataset['GT_0'].iloc[new_match_rf_pos].values\n",
    "    new_gt1 = new_dataset['GT_1'].iloc[new_match_rf_pos].values\n",
    "    new_ref = new_dataset['REF'].iloc[new_match_rf_pos].values\n",
    "    new_alt0 = new_dataset['ALT_0'].iloc[new_match_rf_pos].values\n",
    "    new_alt1 = new_dataset['ALT_1'].iloc[new_match_rf_pos].values\n",
    "    new_pos = new_dataset['POS'].iloc[new_match_rf_pos].values\n",
    "\n",
    "    new_variants = pandas.Series(declare_variants_only_with_changes(new_gt0, new_gt1, new_ref, new_alt0, new_alt1, new_pos))\n",
    "    new_non_variants = pandas.Series(declare_variants_without_changes(new_gt0, new_gt1, new_ref, new_alt0, new_alt1, new_pos))\n",
    "    #     print('new_variants')\n",
    "    #     print(new_variants)\n",
    "    #     print('new_non_variants')\n",
    "    #     print(new_non_variants)\n",
    "\n",
    "    ref_gt0 = ref_dataset['GT_0'].iloc[ref_match_new_pos].values\n",
    "    ref_gt1 = ref_dataset['GT_1'].iloc[ref_match_new_pos].values\n",
    "    ref_ref = ref_dataset['REF'].iloc[ref_match_new_pos].values\n",
    "    ref_alt0 = ref_dataset['ALT_0'].iloc[ref_match_new_pos].values\n",
    "    ref_alt1 = ref_dataset['ALT_1'].iloc[ref_match_new_pos].values\n",
    "    ref_pos = ref_dataset['POS'].iloc[ref_match_new_pos].values\n",
    "\n",
    "    ref_variants = pandas.Series(declare_variants_only_with_changes(ref_gt0, ref_gt1, ref_ref, ref_alt0, ref_alt1, ref_pos))\n",
    "    ref_non_variants = pandas.Series(declare_variants_without_changes(ref_gt0, ref_gt1, ref_ref, ref_alt0, ref_alt1, ref_pos))\n",
    "    #     print('ref_variants')\n",
    "    #     print(ref_variants)\n",
    "    #     print('ref_non_variants')\n",
    "    #     print(ref_non_variants)\n",
    "\n",
    "    new_call_match_var = new_variants.isin(ref_variants).value_counts()\n",
    "    new_call_match_non_var = new_non_variants.isin(ref_non_variants).value_counts()\n",
    "    ref_call_match_var = ref_variants.isin(new_variants).value_counts()\n",
    "    ref_call_match_non_var = ref_non_variants.isin(new_non_variants).value_counts()\n",
    "\n",
    "    if True in new_call_match_var.index: TP += new_call_match_var[True]\n",
    "    if True in new_call_match_non_var.index: TP += new_call_match_non_var[True]\n",
    "    if False in new_call_match_var.index: FP += new_call_match_var[False]\n",
    "    if False in new_call_match_non_var.index: FP += new_call_match_non_var[False]\n",
    "    if False in ref_call_match_var.index: FN += ref_call_match_var[False]\n",
    "    if False in ref_call_match_non_var.index: FN += ref_call_match_non_var[False]\n",
    "\n",
    "    #     print (TP)\n",
    "    #     print (FP)\n",
    "    #     print (FN)\n",
    "\n",
    "    precision = TP/(TP+FP)\n",
    "    recall = TP/(TP+FN)\n",
    "    f_score = 2*precision*recall/(precision+recall)\n",
    "    \n",
    "    \n",
    "    return TP, FP, FN, precision, recall, f_score\n",
    "    \n",
    "    "
   ]
  },
  {
   "cell_type": "code",
   "execution_count": 6,
   "metadata": {},
   "outputs": [],
   "source": [
    "def main(new_file, ref_file):\n",
    "\n",
    "    new_callset = vcf_to_df(new_file)\n",
    "    ref_callset = vcf_to_df(ref_file)\n",
    "    \n",
    "    return calc_metrics(new_callset, ref_callset)\n"
   ]
  },
  {
   "cell_type": "code",
   "execution_count": 8,
   "metadata": {},
   "outputs": [
    {
     "name": "stderr",
     "output_type": "stream",
     "text": [
      "/opt/conda/lib/python3.6/site-packages/allel/io/vcf_read.py:1516: UserWarning: invalid INFO header: '##INFO=<ID=VDB,Number=1,Type=Float,Description=\"Variant Distance Bias for filtering splice-site artefacts in RNA-seq data (bigger is better)\",Version=\"3\">\\n'\n",
      "  warnings.warn('invalid INFO header: %r' % header)\n"
     ]
    },
    {
     "name": "stdout",
     "output_type": "stream",
     "text": [
      "Metrics processing done for binom_p0.5_variant_call_metrics.csv \n",
      "Metrics processing done for binom_p0.6_variant_call_metrics.csv \n",
      "Metrics processing done for binom_p0.65_variant_call_metrics.csv \n",
      "Metrics processing done for binom_p0.7_variant_call_metrics.csv \n",
      "Metrics processing done for binom_p0.75_variant_call_metrics.csv \n",
      "Metrics processing done for binom_p0.8_variant_call_metrics.csv \n",
      "Metrics processing done for binom_p0.85_variant_call_metrics.csv \n",
      "Metrics processing done for binom_p0.9_variant_call_metrics.csv \n",
      "Metrics processing done for binom_p0.95_variant_call_metrics.csv \n",
      "Metrics processing done for binom_p0.98_variant_call_metrics.csv \n",
      "Metrics processing done for binom_p0.99_variant_call_metrics.csv \n",
      "Processing done.\n"
     ]
    }
   ],
   "source": [
    "\n",
    "sheet = pandas.DataFrame(columns=['VCF name', 'Binomial_probability', 'TP', 'FP', 'FN', 'Precision', 'Recall', 'F-Score'])\n",
    "p = [0.5, 0.6, 0.65, 0.7, 0.75, 0.8, 0.85, 0.9, 0.95, 0.98, 0.99]\n",
    "row = 0\n",
    "for i in p:\n",
    "    file = 'variant_call_results/binom_p' + str(i) + '_variant_call.vcf'\n",
    "    ref_vcf_str = '/sbgenomics/project-files/final_project_files/final_merged_pileup.called.vcf'\n",
    "    TP, FP, FN, prec, rec, f_s = main(file, ref_vcf_str)\n",
    "    sheet.loc[row] = [file] + [i, TP, FP, FN, prec, rec, f_s]\n",
    "    row += 1\n",
    "    print('Metrics processing done for binom_p' + str(i) + '_variant_call_metrics.csv ')\n",
    "    \n",
    "sheet.to_csv('binom_variant_call_metrics.csv', index =False)\n",
    "print('Processing done.')\n",
    "\n"
   ]
  },
  {
   "cell_type": "code",
   "execution_count": 9,
   "metadata": {},
   "outputs": [
    {
     "name": "stderr",
     "output_type": "stream",
     "text": [
      "/opt/conda/lib/python3.6/site-packages/allel/io/vcf_read.py:1516: UserWarning: invalid INFO header: '##INFO=<ID=VDB,Number=1,Type=Float,Description=\"Variant Distance Bias for filtering splice-site artefacts in RNA-seq data (bigger is better)\",Version=\"3\">\\n'\n",
      "  warnings.warn('invalid INFO header: %r' % header)\n"
     ]
    },
    {
     "name": "stdout",
     "output_type": "stream",
     "text": [
      "Metrics processing done for binom_p0.5_variant_call_metrics.csv \n",
      "Metrics processing done for binom_p0.6_variant_call_metrics.csv \n",
      "Metrics processing done for binom_p0.65_variant_call_metrics.csv \n",
      "Metrics processing done for binom_p0.7_variant_call_metrics.csv \n",
      "Metrics processing done for binom_p0.75_variant_call_metrics.csv \n",
      "Metrics processing done for binom_p0.8_variant_call_metrics.csv \n",
      "Metrics processing done for binom_p0.85_variant_call_metrics.csv \n",
      "Metrics processing done for binom_p0.9_variant_call_metrics.csv \n",
      "Metrics processing done for binom_p0.95_variant_call_metrics.csv \n",
      "Metrics processing done for binom_p0.98_variant_call_metrics.csv \n",
      "Metrics processing done for binom_p0.99_variant_call_metrics.csv \n",
      "Processing done.\n"
     ]
    }
   ],
   "source": [
    "sheet = pandas.DataFrame(columns=['VCF name', 'Binomial_probability', 'TP', 'FP', 'FN', 'Precision', 'Recall', 'F-Score'])\n",
    "p = [0.5, 0.6, 0.65, 0.7, 0.75, 0.8, 0.85, 0.9, 0.95, 0.98, 0.99]\n",
    "# p = [0.5]\n",
    "row = 0\n",
    "for i in p:\n",
    "    file = 'variant_call_short_results/binom_p' + str(i) + '_short_variant_call.vcf'\n",
    "    ref_vcf_str = 'final_short_pileup.called.vcf'\n",
    "    TP, FP, FN, prec, rec, f_s = main(file, ref_vcf_str)\n",
    "    sheet.loc[row] = [file] + [i, TP, FP, FN, prec, rec, f_s]\n",
    "    row += 1\n",
    "    \n",
    "    print('Metrics processing done for binom_p' + str(i) + '_variant_call_metrics.csv ')\n",
    "    \n",
    "sheet.to_csv('binom_short_variant_call_metrics.csv', index =False)\n",
    "print('Processing done.')"
   ]
  },
  {
   "cell_type": "code",
   "execution_count": null,
   "metadata": {},
   "outputs": [],
   "source": [
    "sheet\n"
   ]
  },
  {
   "cell_type": "code",
   "execution_count": null,
   "metadata": {},
   "outputs": [],
   "source": []
  }
 ],
 "metadata": {
  "kernelspec": {
   "display_name": "Python 3",
   "language": "python",
   "name": "python3"
  },
  "language_info": {
   "codemirror_mode": {
    "name": "ipython",
    "version": 3
   },
   "file_extension": ".py",
   "mimetype": "text/x-python",
   "name": "python",
   "nbconvert_exporter": "python",
   "pygments_lexer": "ipython3",
   "version": "3.6.3"
  }
 },
 "nbformat": 4,
 "nbformat_minor": 2
}
